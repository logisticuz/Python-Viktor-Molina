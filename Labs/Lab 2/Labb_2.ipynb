{
 "cells": [
  {
   "cell_type": "markdown",
   "metadata": {},
   "source": [
    "# FUNCTIONS AND IMPORTS\n",
    "\n",
    "- Utility Function: Euclidean distance\n",
    "- Core function: Classify data point\n",
    "- User Input Function\n",
    "- File Handling: Load training data"
   ]
  },
  {
   "cell_type": "code",
   "execution_count": 35,
   "metadata": {},
   "outputs": [],
   "source": [
    "import math \n",
    "import matplotlib.pyplot as plt\n",
    "\n",
    "# Function to calculate distance between two points\n",
    "def euclidean_distance(p1, p2):\n",
    "    return math.sqrt((p1[\"width\"] - p2[\"width\"])**2 + (p1[\"height\"] - p2[\"height\"])**2)\n",
    "\n",
    "# Function to classify a data point based on its nearest neighbors in the training data\n",
    "def classify_data_point(data_point, training_data, k):\n",
    "    distances = []\n",
    "    for point in training_data:\n",
    "        distance = euclidean_distance(data_point, point)\n",
    "        distances.append((distance, point[\"label\"]))\n",
    "    \n",
    "    distances.sort()\n",
    "    nearest_neighbors = distances[:k]\n",
    "\n",
    "    pichu_count = sum(1 for _, label in nearest_neighbors if label == \"0\")\n",
    "    pikachu_count = sum(1 for _, label in nearest_neighbors if label == \"1\")\n",
    "\n",
    "    if pichu_count > pikachu_count:\n",
    "        return \"Pichu\"\n",
    "    else:\n",
    "        return \"Pikachu\"\n",
    "\n",
    "# Function to input a data point from the user\n",
    "def input_data_point():\n",
    "    while True:\n",
    "        try:\n",
    "            width = float(input(\"Enter the width of the data point: \"))\n",
    "            height = float(input(\"Enter the height of the data point: \"))\n",
    "            \n",
    "            if width < 0 or height < 0:\n",
    "                raise ValueError(\"Invalid input. Width and height cannot be negative.\")\n",
    "           \n",
    "            return {\"width\": width, \"height\": height,}\n",
    "        except ValueError as e:\n",
    "            print(e)\n",
    "\n",
    "# Function to read data from a file and store it in a list.\n",
    "def load_training_data(file_path):\n",
    "    training_data = []\n",
    "    with open(file_path, 'r') as file:\n",
    "        next(file)\n",
    "        for line in file:\n",
    "            values = line.strip().split(',')\n",
    "            if len(values) != 3:  # Continue checking for unexpected number of values\n",
    "                continue\n",
    "            width, height, label = values\n",
    "            training_data.append({\n",
    "                \"width\": float(width),\n",
    "                \"height\": float(height),\n",
    "                \"label\": label.strip()\n",
    "            })\n",
    "    return training_data"
   ]
  },
  {
   "cell_type": "markdown",
   "metadata": {},
   "source": [
    "# DATA LOADING AND USER INPUT\n"
   ]
  },
  {
   "cell_type": "code",
   "execution_count": 36,
   "metadata": {},
   "outputs": [],
   "source": [
    "data_file_path = \"Data\\\\datapoints.txt\"\n",
    "training_data = load_training_data(data_file_path)\n",
    "new_datapoint = input_data_point()"
   ]
  },
  {
   "cell_type": "markdown",
   "metadata": {},
   "source": [
    "# NEAREST NEIGHBOUR CLASSIFICATION K=1"
   ]
  },
  {
   "cell_type": "code",
   "execution_count": 37,
   "metadata": {},
   "outputs": [
    {
     "name": "stdout",
     "output_type": "stream",
     "text": [
      "The user's data point was classified as: Pichu\n"
     ]
    }
   ],
   "source": [
    "# Classify the user's data point with k=1\n",
    "user_classification = classify_data_point(new_datapoint, training_data, k=1)\n",
    "print(f\"The user's data point was classified as: {user_classification}\")"
   ]
  },
  {
   "cell_type": "markdown",
   "metadata": {},
   "source": [
    "# NEAREST NEIGHBOUR CLASSIFICATION K=10"
   ]
  },
  {
   "cell_type": "code",
   "execution_count": 38,
   "metadata": {},
   "outputs": [
    {
     "name": "stdout",
     "output_type": "stream",
     "text": [
      "The user's data point was classified as: Pichu\n"
     ]
    }
   ],
   "source": [
    "# RE-use of the same user input\n",
    "\n",
    "# Classify the user's data point with k=10\n",
    "user_classification = classify_data_point(new_datapoint, training_data, k=10)\n",
    "print(f\"The user's data point was classified as: {user_classification}\")"
   ]
  },
  {
   "cell_type": "markdown",
   "metadata": {},
   "source": [
    "# TESTING"
   ]
  },
  {
   "cell_type": "code",
   "execution_count": 40,
   "metadata": {},
   "outputs": [
    {
     "name": "stdout",
     "output_type": "stream",
     "text": [
      "Testing with k=1\n",
      "Sample with (width, height): (25, 32) classified as Pikachu\n",
      "Sample with (width, height): (24.2, 31.5) classified as Pikachu\n",
      "Sample with (width, height): (22, 34) classified as Pikachu\n",
      "Sample with (width, height): (20.5, 34) classified as Pichu\n",
      "\n",
      "Testing with k=10:\n",
      "Sample with (width, height): (25, 32) classified as Pikachu\n",
      "Sample with (width, height): (24.2, 31.5) classified as Pikachu\n",
      "Sample with (width, height): (22, 34) classified as Pikachu\n",
      "Sample with (width, height): (20.5, 34) classified as Pichu\n"
     ]
    }
   ],
   "source": [
    "test_samples = [(25, 32), (24.2, 31.5), (22, 34), (20.5, 34)]\n",
    "\n",
    "print(\"Testing with k=1\")\n",
    "for sample in test_samples:\n",
    "    data_point = {\"width\": sample[0], \"height\": sample[1]}\n",
    "    classification = classify_data_point(data_point, training_data, k=1)\n",
    "    print(f\"Sample with (width, height): {sample} classified as {classification}\")\n",
    "\n",
    "print(\"\\nTesting with k=10:\")\n",
    "# Testing with k=10\n",
    "for sample in test_samples:\n",
    "    data_point = {\"width\": sample[0], \"height\": sample[1]}\n",
    "    classification = classify_data_point(data_point, training_data, k=10)\n",
    "    print(f\"Sample with (width, height): {sample} classified as {classification}\")\n"
   ]
  },
  {
   "cell_type": "markdown",
   "metadata": {},
   "source": [
    "# Visualization"
   ]
  },
  {
   "cell_type": "code",
   "execution_count": 41,
   "metadata": {},
   "outputs": [
    {
     "data": {
      "image/png": "[encoded data removed]",
      "text/plain": [
       "<Figure size 640x480 with 1 Axes>"
      ]
     },
     "metadata": {},
     "output_type": "display_data"
    }
   ],
   "source": [
    "# Separate the data points into two lists based on their classification\n",
    "pichu_data = [point for point in training_data if point[\"label\"] == \"0\"]\n",
    "pikachu_data = [point for point in training_data if point[\"label\"] == \"1\"]\n",
    "\n",
    "# Extract widths and heights for plotting\n",
    "pichu_widths, pichu_heights = zip(*[(point[\"width\"], point[\"height\"]) for point in pichu_data])\n",
    "pikachu_widths, pikachu_heights = zip(*[(point[\"width\"], point[\"height\"]) for point in pikachu_data])\n",
    "\n",
    "# Plot the training data points with different colors for each class\n",
    "plt.scatter(pichu_widths, pichu_heights, c='black', label='Training Data Pichu')\n",
    "plt.scatter(pikachu_widths, pikachu_heights, c='gold', label='Training Data Pikachu')\n",
    "\n",
    "# Set labels and title\n",
    "plt.xlabel('Width')\n",
    "plt.ylabel('Height')\n",
    "plt.title('Training Data Points for Pichu vs Pikachu')\n",
    "\n",
    "# Add a legend\n",
    "plt.legend()\n",
    "\n",
    "# Show the plot\n",
    "plt.show()"
   ]
  },
  {
   "cell_type": "markdown",
   "metadata": {},
   "source": [
    "# BONUS (not done)"
   ]
  },
  {
   "cell_type": "code",
   "execution_count": 42,
   "metadata": {},
   "outputs": [],
   "source": [
    "import random\n",
    "#Shuffle import\n",
    "\n",
    "def split_data(training_data):\n",
    "    random.shuffle(training_data)\n",
    "    train_data= training_data[:100]\n",
    "    test_data = training_data[100:150]\n",
    "    return train_data, test_data"
   ]
  },
  {
   "cell_type": "markdown",
   "metadata": {},
   "source": [
    "# INSIGHT\n",
    "\n",
    "This lab was not an easy task. It was really challenging to overcome obstacles in my path, I encountered challenges that led me through several iterations and improvements of the code. \n",
    "\n",
    "Although this process was demanding, it enhanced my understanding of the problem and the tools I used. \n",
    "By continuously reflecting upon and revising my code, I was able to optimize its structure and functionality. "
   ]
  }
 ],
 "metadata": {
  "kernelspec": {
   "display_name": "Python-Viktor-Molina-85FrPKpX",
   "language": "python",
   "name": "python3"
  },
  "language_info": {
   "codemirror_mode": {
    "name": "ipython",
    "version": 3
   },
   "file_extension": ".py",
   "mimetype": "text/x-python",
   "name": "python",
   "nbconvert_exporter": "python",
   "pygments_lexer": "ipython3",
   "version": "3.11.6"
  },
  "orig_nbformat": 4
 },
 "nbformat": 4,
 "nbformat_minor": 2
}
