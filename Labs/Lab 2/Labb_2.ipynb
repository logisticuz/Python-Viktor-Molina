{
 "cells": [
  {
   "cell_type": "markdown",
   "metadata": {},
   "source": [
    "# FUNCTIONS AND IMPORTS\n",
    "\n",
    "- Utility Function: Euclidean distance\n",
    "- Core function: Classify cata point\n",
    "- User Input Function\n",
    "- File Handling: Load training data"
   ]
  },
  {
   "cell_type": "code",
   "execution_count": 20,
   "metadata": {},
   "outputs": [],
   "source": [
    "import math \n",
    "import matplotlib.pyplot as plt\n",
    "\n",
    "# Function to calculate distance between two points\n",
    "def euclidean_distance(p1, p2):\n",
    "    return math.sqrt((p1[\"width\"] - p2[\"width\"])**2 + (p1[\"height\"] - p2[\"height\"])**2)\n",
    "\n",
    "# Function to classify a data point based on its nearest neighbors in the training data\n",
    "def classify_data_point(data_point, training_data, k):\n",
    "    distances = []\n",
    "    for point in training_data:\n",
    "        distance = euclidean_distance(data_point, point)\n",
    "        distances.append((distance, point[\"label\"]))\n",
    "    \n",
    "    distances.sort()\n",
    "    nearest_neighbors = distances[:k]\n",
    "\n",
    "    pichu_count = sum(1 for _, label in nearest_neighbors if label == \"0\")\n",
    "    pikachu_count = sum(1 for _, label in nearest_neighbors if label == \"1\")\n",
    "\n",
    "    if pichu_count > pikachu_count:\n",
    "        return \"Pichu\"\n",
    "    else:\n",
    "        return \"Pikachu\"\n",
    "\n",
    "# Function to input a data point from the user\n",
    "def input_data_point():\n",
    "    while True:\n",
    "        try:\n",
    "            width = float(input(\"Enter the width of the data point: \"))\n",
    "            height = float(input(\"Enter the height of the data point: \"))\n",
    "            \n",
    "            if width < 0 or height < 0:\n",
    "                raise ValueError(\"Invalid input. Width and height cannot be negative.\")\n",
    "           \n",
    "            return {\"width\": width, \"height\": height,}\n",
    "        except ValueError as e:\n",
    "            print(e)\n",
    "\n",
    "# Function to read data from a file and store it in a list.\n",
    "def load_training_data(file_path):\n",
    "    training_data = []\n",
    "    with open(file_path, 'r') as file:\n",
    "        next(file)\n",
    "        for line in file:\n",
    "            values = line.strip().split(',')\n",
    "            if len(values) != 3:  # Continue checking for unexpected number of values\n",
    "                continue\n",
    "            width, height, label = values\n",
    "            training_data.append({\n",
    "                \"width\": float(width),\n",
    "                \"height\": float(height),\n",
    "                \"label\": label.strip()\n",
    "            })\n",
    "    return training_data"
   ]
  },
  {
   "cell_type": "markdown",
   "metadata": {},
   "source": [
    "# DATA LOADING AND USER INPUT\n"
   ]
  },
  {
   "cell_type": "code",
   "execution_count": null,
   "metadata": {},
   "outputs": [],
   "source": [
    "data_file_path = \"Data\\\\datapoints.txt\"\n",
    "training_data = load_training_data(data_file_path)\n",
    "new_datapoint = input_data_point()"
   ]
  },
  {
   "cell_type": "markdown",
   "metadata": {},
   "source": [
    "# NEAREST NEIGHBOUR CLASSIFICATION K=1"
   ]
  },
  {
   "cell_type": "code",
   "execution_count": null,
   "metadata": {},
   "outputs": [],
   "source": [
    "# Classify the user's data point with k=1\n",
    "user_classification = classify_data_point(new_datapoint, training_data, k=1)\n",
    "print(f\"The user's data point was classified as: {user_classification}\")"
   ]
  },
  {
   "cell_type": "markdown",
   "metadata": {},
   "source": [
    "# NEAREST NEIGHBOUR CLASSIFICATION K=10"
   ]
  },
  {
   "cell_type": "code",
   "execution_count": null,
   "metadata": {},
   "outputs": [],
   "source": [
    "# RE-use of the same user input\n",
    "\n",
    "# Classify the user's data point with k=10\n",
    "user_classification = classify_data_point(new_datapoint, training_data, k=10)\n",
    "print(f\"The user's data point was classified as: {user_classification}\")"
   ]
  }
 ],
 "metadata": {
  "kernelspec": {
   "display_name": "Python-Viktor-Molina-85FrPKpX",
   "language": "python",
   "name": "python3"
  },
  "language_info": {
   "codemirror_mode": {
    "name": "ipython",
    "version": 3
   },
   "file_extension": ".py",
   "mimetype": "text/x-python",
   "name": "python",
   "nbconvert_exporter": "python",
   "pygments_lexer": "ipython3",
   "version": "3.11.6"
  },
  "orig_nbformat": 4
 },
 "nbformat": 4,
 "nbformat_minor": 2
}
