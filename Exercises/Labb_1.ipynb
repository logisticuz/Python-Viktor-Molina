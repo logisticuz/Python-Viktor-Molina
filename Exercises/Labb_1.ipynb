{
 "cells": [
  {
   "cell_type": "markdown",
   "metadata": {},
   "source": [
    "# Count with python"
   ]
  },
  {
   "cell_type": "markdown",
   "metadata": {},
   "source": [
    "## 1a)"
   ]
  },
  {
   "cell_type": "code",
   "execution_count": null,
   "metadata": {},
   "outputs": [],
   "source": [
    "import math  \n",
    "side_a = 3\n",
    "side_b = 4\n",
    "\n",
    "c_squared = side_a**2 + side_b**2\n",
    "\n",
    "c = math.sqrt(c_squared)\n",
    "\n",
    "print(c)"
   ]
  },
  {
   "cell_type": "markdown",
   "metadata": {},
   "source": [
    "## 1b)"
   ]
  },
  {
   "cell_type": "code",
   "execution_count": null,
   "metadata": {},
   "outputs": [],
   "source": [
    "a = 5\n",
    "c = 7\n",
    "\n",
    "b = math.sqrt(c**2 - a**2)\n",
    "\n",
    "# 2 olika metoder, round är en funktion som ger tillbaka en float\n",
    "print(f\"{round(b, 1):.4f}\")   \n",
    "\n",
    "# medan den andra är en f-sträng formatering (:.4f) som ger en formaterad sträng med 4 decimaler.\n",
    "#print(f\"{b:.1f}\")"
   ]
  },
  {
   "cell_type": "markdown",
   "metadata": {},
   "source": [
    "## 2a"
   ]
  },
  {
   "cell_type": "code",
   "execution_count": null,
   "metadata": {},
   "outputs": [],
   "source": [
    "accuracy = 300.0 / 365\n",
    "print(accuracy)"
   ]
  },
  {
   "cell_type": "markdown",
   "metadata": {},
   "source": [
    "## 3"
   ]
  },
  {
   "cell_type": "code",
   "execution_count": null,
   "metadata": {},
   "outputs": [],
   "source": [
    "TP = 2\n",
    "FP = 2\n",
    "FN = 11\n",
    "TN = 985\n",
    "\n",
    "accuracy = (TP + TN) / (TP + TN + FP + FN)\n",
    "\n",
    "print(accuracy)"
   ]
  },
  {
   "cell_type": "markdown",
   "metadata": {},
   "source": [
    "## 4"
   ]
  },
  {
   "cell_type": "code",
   "execution_count": null,
   "metadata": {},
   "outputs": [],
   "source": [
    "#k=x+m\n",
    "\n",
    "#k=delta y / delta x\n",
    "\n",
    "x1 = 0\n",
    "x2 = 4\n",
    "y1 = 1\n",
    "y2 = 4\n",
    "\n",
    "\n",
    "    # 4 - 1   /   4 - 0\n",
    "\n",
    "k = (y2 - y1) / (x2 - x1)\n",
    "print(k)"
   ]
  },
  {
   "cell_type": "markdown",
   "metadata": {},
   "source": [
    "## 5"
   ]
  },
  {
   "cell_type": "code",
   "execution_count": null,
   "metadata": {},
   "outputs": [],
   "source": [
    "# formel avstånd = V(x2-x1)^2+(y2-y1)^2\n",
    "\n",
    "# mattefunktion\n",
    "import math\n",
    "\n",
    "# Koordinaterna för P1 och P2\n",
    "x1 = 3\n",
    "x2 = -2\n",
    "y1 = 5\n",
    "y2 = 4\n",
    "\n",
    "# avståndsformel och kvadrering\n",
    "distance_squared = (x2-x1)**2+(y2-y1)**2\n",
    "\n",
    "# roten ur\n",
    "distance = math.sqrt(distance_squared)\n",
    "\n",
    "# output svaret på uppgiften\n",
    "print(distance)"
   ]
  },
  {
   "cell_type": "markdown",
   "metadata": {},
   "source": [
    "## 6"
   ]
  },
  {
   "cell_type": "code",
   "execution_count": null,
   "metadata": {},
   "outputs": [],
   "source": [
    "# Matematikbibliotek\n",
    "import math\n",
    "\n",
    "# Kordinater för punkt P1\n",
    "x1 = 2\n",
    "y1 = 1\n",
    "z1 = 4\n",
    "\n",
    "# Kordinater för punkt P2\n",
    "x2 = 3\n",
    "y2 = 1\n",
    "z2 = 0\n",
    "\n",
    "# Beräkna kvadratet av avståndet mellan P1 och P2 i 3D med hjälp av avståndsformeln\n",
    "distance_squared = (x2 - x1)**2 + (y2 - y1)**2 + (z2-z1)**2\n",
    "\n",
    "# Beräkna avståndet genom att ta kvadratroten ur avståndet_squared\n",
    "distance = math.sqrt(distance_squared)\n",
    "\n",
    "print(f\"Avståndet mellan P1 och P2 är ungefär {distance:.2f} l.u.\")"
   ]
  }
 ],
 "metadata": {
  "kernelspec": {
   "display_name": "Python-Viktor-Molina-85FrPKpX",
   "language": "python",
   "name": "python3"
  },
  "language_info": {
   "codemirror_mode": {
    "name": "ipython",
    "version": 3
   },
   "file_extension": ".py",
   "mimetype": "text/x-python",
   "name": "python",
   "nbconvert_exporter": "python",
   "pygments_lexer": "ipython3",
   "version": "3.11.5"
  },
  "orig_nbformat": 4
 },
 "nbformat": 4,
 "nbformat_minor": 2
}
