{
 "cells": [
  {
   "cell_type": "markdown",
   "metadata": {},
   "source": [
    "# PSEUDOKOD\n",
    "\n",
    "- Användaren skriver in siffersekvens\n",
    "\t- Gör någon funktion eller dylikt som möjliggör detta\n",
    "- Denna sträng tas in och lagras \n",
    "\t- Nu ska den hitta delstränger och använda sig av dessa metoder o regler\n",
    "\t- \n",
    "Regler\n",
    "\t- kör den igenom varje tecken för att hitta en likadan siffra som den började med\n",
    "\t- den får inte ha med bokstäver  \n",
    "\t- Den ska inte ha en likadan siffra som finns i början i mitten av delsträngen\n",
    "\t- Den ska printa ut allt och hightlighta delsträngarna med färg\n",
    "- "
   ]
  },
  {
   "cell_type": "code",
   "execution_count": 19,
   "metadata": {},
   "outputs": [
    {
     "ename": "SyntaxError",
     "evalue": "invalid syntax (758377780.py, line 8)",
     "output_type": "error",
     "traceback": [
      "\u001b[1;36m  Cell \u001b[1;32mIn[19], line 8\u001b[1;36m\u001b[0m\n\u001b[1;33m    if.isdigit():\u001b[0m\n\u001b[1;37m      ^\u001b[0m\n\u001b[1;31mSyntaxError\u001b[0m\u001b[1;31m:\u001b[0m invalid syntax\n"
     ]
    }
   ],
   "source": [
    "from colorama import fore, style\n",
    "\n",
    "sekvens = \"29535123p48723487597645723645\"\n",
    "\n",
    "delsträngar = []\n",
    "\n",
    "for tecken in sekvens:\n",
    "        if.isdigit():"
   ]
  }
 ],
 "metadata": {
  "kernelspec": {
   "display_name": "Python-Viktor-Molina-85FrPKpX",
   "language": "python",
   "name": "python3"
  },
  "language_info": {
   "codemirror_mode": {
    "name": "ipython",
    "version": 3
   },
   "file_extension": ".py",
   "mimetype": "text/x-python",
   "name": "python",
   "nbconvert_exporter": "python",
   "pygments_lexer": "ipython3",
   "version": "3.11.5"
  },
  "orig_nbformat": 4
 },
 "nbformat": 4,
 "nbformat_minor": 2
}
