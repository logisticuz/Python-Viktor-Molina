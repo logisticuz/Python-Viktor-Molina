{
 "cells": [
  {
   "cell_type": "markdown",
   "metadata": {},
   "source": [
    "## Pseudokod: Hitta och Markera Godkända Delsträngar\n",
    "\n",
    "\n",
    "- Låt användaren skriva in en siffersekvens och spara den i en variabel.\n",
    "- Skapa en tom lista för att hålla de godkända delsträngarna.\n",
    "- Skapa en tom sträng för att hålla den markerade sekvensen.\n",
    "- Gå igenom varje tecken i sekvensen:\n",
    "  - Om tecknet är en siffra:\n",
    "    - Om det är samma siffra som den första siffran i delsträngen:\n",
    "      - Lägg till sekvensen i delsträngen.\n",
    "    - Annars, om delsträngen uppfyller reglerna:\n",
    "      - Lägg till delsträngen i listan med godkända delsträngar.\n",
    "      - Nollställ delsträngen.\n",
    "    - Lägg till tecknet i den markerade sekvensen.\n",
    "  - Om tecknet inte är en siffra:\n",
    "    - Lägg till tecknet i den markerade sekvensen.\n",
    "- Skriv ut den markerade sekvensen och markera de godkända delsträngarna med färg.\n"
   ]
  },
  {
   "cell_type": "code",
   "execution_count": 19,
   "metadata": {},
   "outputs": [
    {
     "ename": "SyntaxError",
     "evalue": "invalid syntax (758377780.py, line 8)",
     "output_type": "error",
     "traceback": [
      "\u001b[1;36m  Cell \u001b[1;32mIn[19], line 8\u001b[1;36m\u001b[0m\n\u001b[1;33m    if.isdigit():\u001b[0m\n\u001b[1;37m      ^\u001b[0m\n\u001b[1;31mSyntaxError\u001b[0m\u001b[1;31m:\u001b[0m invalid syntax\n"
     ]
    }
   ],
   "source": [
    "from colorama import fore, style\n",
    "\n",
    "sekvens = \"29535123p48723487597645723645\"\n",
    "\n",
    "delsträngar = []\n",
    "\n",
    "for tecken in sekvens:\n",
    "        if.isdigit():"
   ]
  },
  {
   "cell_type": "code",
   "execution_count": 5,
   "metadata": {},
   "outputs": [
    {
     "name": "stdout",
     "output_type": "stream",
     "text": [
      "Markerad sekvens:\n",
      "2953512348723487597645723645\n"
     ]
    }
   ],
   "source": [
    "from colorama import Fore, Style\n",
    "\n",
    "# Låt användaren mata in en siffersekvens och lagra den i en variabel.\n",
    "sekvens = input(\"Skriv in en siffersekvens: \")\n",
    "\n",
    "# Skapa en tom lista för att lagra de godkända delsträngarna.\n",
    "godkanda_delstrangar = []\n",
    "\n",
    "# Skapa en tom sträng för att hålla den markerade sekvensen.\n",
    "markerad_sekvens = \"\"\n",
    "\n",
    "# Loopa igenom varje tecken i sekvensen.\n",
    "delstrang = \"\"\n",
    "for tecken in sekvens:\n",
    "    # Om tecknet är en siffra.\n",
    "    if tecken.isdigit():\n",
    "        # Om det är samma siffra som den första siffran i delsträngen.\n",
    "        if not delstrang or tecken == delstrang[0]:\n",
    "            delstrang += tecken\n",
    "        # Annars, om delsträngen uppfyller reglerna.\n",
    "        elif len(delstrang) > 2 and tecken != delstrang[0] and tecken not in delstrang[1:]:\n",
    "            godkanda_delstrangar.append(delstrang)\n",
    "            delstrang = tecken\n",
    "        else:\n",
    "            delstrang = tecken\n",
    "    else:\n",
    "        delstrang = \"\"\n",
    "    markerad_sekvens += delstrang\n",
    "\n",
    "# Lägg till den sista delsträngen om den uppfyller reglerna.\n",
    "if len(delstrang) > 2 and tecken != delstrang[0] and tecken not in delstrang[1:]:\n",
    "    godkanda_delstrangar.append(delstrang)\n",
    "\n",
    "# Skriv ut den markerade sekvensen och markera de godkända delsträngarna med färg.\n",
    "markerad_sekvens = markerad_sekvens.replace(sekvens, f\"{Fore.RED}{sekvens}{Style.RESET_ALL}\")\n",
    "\n",
    "print(\"Markerad sekvens:\")\n",
    "print(markerad_sekvens)\n"
   ]
  }
 ],
 "metadata": {
  "kernelspec": {
   "display_name": "Python-Viktor-Molina-85FrPKpX",
   "language": "python",
   "name": "python3"
  },
  "language_info": {
   "codemirror_mode": {
    "name": "ipython",
    "version": 3
   },
   "file_extension": ".py",
   "mimetype": "text/x-python",
   "name": "python",
   "nbconvert_exporter": "python",
   "pygments_lexer": "ipython3",
   "version": "3.11.5"
  },
  "orig_nbformat": 4
 },
 "nbformat": 4,
 "nbformat_minor": 2
}
