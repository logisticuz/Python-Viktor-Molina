{
 "cells": [
  {
   "cell_type": "markdown",
   "metadata": {},
   "source": [
    "# Load and save data to files\n",
    "\n",
    "We can categorize files in to 2 main categories, text files and binary files.\n",
    "- Text files stores text / characters in a human readable format.\n",
    "- Binary files stores byte data (1's and 0's) that only computers understand.\n",
    "\n",
    "## Common text based files to store data\n",
    "- **.txt** Plain text\n",
    "- **.csv** Common format used for data\n",
    "- **.json** Common format used for data\n",
    "\n",
    "## File names and file paths\n",
    "\n",
    "A file name usually has two parts, the name, and the file extension, separated with a dot (name.extension)\n",
    "\n",
    "e.g. hello.txt data.json myimage.jpg\n",
    "\n",
    "Paths can be expressed as either relative or absolute:\n",
    "- **Absolute:** Full path to access a file or folder. EX. C:\\users\\fredrik\\desktop\\myfile.txt\n",
    "- **Relative:** Relative from current active folder: data\\data.json\n"
   ]
  },
  {
   "cell_type": "markdown",
   "metadata": {},
   "source": [
    "# Open file for reading"
   ]
  },
  {
   "cell_type": "code",
   "execution_count": 20,
   "metadata": {},
   "outputs": [
    {
     "name": "stdout",
     "output_type": "stream",
     "text": [
      "This is my new content.mitt namn är viktor\n",
      "tjena tjena mittenbena\n",
      "helluuuuuu\n",
      "\n"
     ]
    }
   ],
   "source": [
    "file = open(\"..\\data\\hello.txt\")\n",
    "\n",
    "content = file.read()\n",
    "\n",
    "print(content)\n",
    "\n",
    "file.close()"
   ]
  },
  {
   "cell_type": "markdown",
   "metadata": {},
   "source": [
    "# Open with context management"
   ]
  },
  {
   "cell_type": "code",
   "execution_count": 21,
   "metadata": {},
   "outputs": [
    {
     "name": "stdout",
     "output_type": "stream",
     "text": [
      "This is my new content.mitt namn är viktor\n",
      "tjena tjena mittenbena\n",
      "helluuuuuu\n",
      "\n"
     ]
    }
   ],
   "source": [
    "with open(\"..\\data\\hello.txt\") as file:\n",
    "    content = file.read()\n",
    "    print(content)"
   ]
  },
  {
   "cell_type": "markdown",
   "metadata": {},
   "source": [
    "# Open file for writing"
   ]
  },
  {
   "cell_type": "code",
   "execution_count": 22,
   "metadata": {},
   "outputs": [],
   "source": [
    "file = open(\"..\\data\\hello.txt\", \"w\")\n",
    "\n",
    "new_content = \"This is my new content.\"\n",
    "\n",
    "file.write(new_content)\n",
    "\n",
    "file.close()"
   ]
  },
  {
   "cell_type": "code",
   "execution_count": 23,
   "metadata": {},
   "outputs": [],
   "source": [
    "file = open(\"..\\data\\hello.txt\", \"a\")\n",
    "\n",
    "new_content = input(\"Enter text: \")\n",
    "\n",
    "file.write(new_content + '\\n')\n",
    "\n",
    "file.close()"
   ]
  },
  {
   "cell_type": "code",
   "execution_count": 24,
   "metadata": {},
   "outputs": [],
   "source": [
    "new_content = input(\"Enter text: \")\n",
    "\n",
    "with open(\"..\\data\\hello.txt\", \"a\") as file:\n",
    "    file.write(new_content + '\\n')"
   ]
  },
  {
   "cell_type": "markdown",
   "metadata": {},
   "source": [
    "## Mini-uppgift\n",
    "Skapa ett program som har en tom lista. När programmet körs får användaren mata in namn (input) i en loop tills användaren matar in en tom rad. När den är klar så så skriv alla namn ut på skärmen, samt sparas till en fil (med ett namn på varje rad). Nästa gång man startar programmet så läser den in de befintliga namnen"
   ]
  },
  {
   "cell_type": "code",
   "execution_count": 25,
   "metadata": {},
   "outputs": [
    {
     "name": "stdout",
     "output_type": "stream",
     "text": [
      "Alla namn:\n",
      "mikael\n",
      "viktor\n",
      "jennie\n",
      "melanie\n"
     ]
    }
   ],
   "source": [
    "# Skapa en tom lista för att lagra namn\n",
    "namn_lista = []\n",
    "\n",
    "# Loop för att låta användaren mata in namn\n",
    "while True:\n",
    "    # Be användaren mata in ett namn\n",
    "    namn = input(\"Mata in ett namn (eller lämna tomt för att avsluta): \")\n",
    "\n",
    "    # Kontrollera om användaren lämnade in ett tomt namn\n",
    "    if namn == \"\":\n",
    "        break  # Avsluta loopen om ett tomt namn matas in\n",
    "\n",
    "    # Lägg till namnet i listan\n",
    "    namn_lista.append(namn)\n",
    "\n",
    "# Skriv ut alla namn på skärmen\n",
    "print(\"Alla namn:\")\n",
    "for namn in namn_lista:\n",
    "    print(namn)\n"
   ]
  },
  {
   "cell_type": "code",
   "execution_count": 10,
   "metadata": {},
   "outputs": [
    {
     "name": "stdout",
     "output_type": "stream",
     "text": [
      "Namnen har sparats i filen namnlista.txt\n"
     ]
    }
   ],
   "source": [
    "# Skapa en tom lista för att lagra namn\n",
    "namn_lista = []\n",
    "\n",
    "# Loop för att låta användaren mata in namn\n",
    "while True:\n",
    "    # Be användaren mata in ett namn\n",
    "    namn = input(\"Mata in ett namn (eller lämna tomt för att avsluta): \")\n",
    "\n",
    "    # Kontrollera om användaren lämnade in ett tomt namn\n",
    "    if namn == \"\":\n",
    "        break  # Avsluta loopen om ett tomt namn matas in\n",
    "\n",
    "    # Lägg till namnet i listan\n",
    "    namn_lista.append(namn)\n",
    "\n",
    "# Ange filnamnet där namnen kommer att sparas\n",
    "filnamn = \"namnlista.txt\"\n",
    "\n",
    "# Öppna filen för skrivning\n",
    "with open(filnamn, \"w\") as fil:\n",
    "    # Skriv varje namn till filen\n",
    "    for namn in namn_lista:\n",
    "        fil.write(namn + \"\\n\")\n",
    "\n",
    "print(\"Namnen har sparats i filen\", filnamn)\n"
   ]
  },
  {
   "cell_type": "code",
   "execution_count": 19,
   "metadata": {},
   "outputs": [
    {
     "ename": "SyntaxError",
     "evalue": "unterminated string literal (detected at line 15) (1850792779.py, line 15)",
     "output_type": "error",
     "traceback": [
      "\u001b[1;36m  Cell \u001b[1;32mIn[19], line 15\u001b[1;36m\u001b[0m\n\u001b[1;33m    file.writelines([name + 'n\\' for name in names])\u001b[0m\n\u001b[1;37m                            ^\u001b[0m\n\u001b[1;31mSyntaxError\u001b[0m\u001b[1;31m:\u001b[0m unterminated string literal (detected at line 15)\n"
     ]
    }
   ],
   "source": [
    "with open(\"..\\\\data\\\\namelist.txt\", \"r\") as file:\n",
    "    names = file.readlines()\n",
    "\n",
    "while true:\n",
    "        name = input (\"Enter name: \")\n",
    "        if not name: break\n",
    "        names.append(name)\n",
    "\n",
    "print(\"names\")\n",
    "\n",
    "#for name in names:\n",
    "#        print(name)\n",
    "\n",
    "with open(\"..\\\\data\\\\namelist.txt\", \"w\") as file:\n",
    "       file.writelines([name + 'n\\' for name in names])\n",
    "\n",
    "print(\"Names are saved!\")"
   ]
  },
  {
   "cell_type": "markdown",
   "metadata": {},
   "source": [
    "## Write .CSV file"
   ]
  },
  {
   "cell_type": "code",
   "execution_count": null,
   "metadata": {},
   "outputs": [],
   "source": [
    "students = [\n",
    "    {\"name\": \"adam\", \"class\": \"AI23\", \"email\": \"adam@gmail.com\"},\n",
    "    {\"name\": \"viktor\", \"class\": \"AI23\", \"email\": \"viktor@gmail.com\"},\n",
    "    {\"name\": \"jennie\", \"class\": \"AI23\", \"email\": \"jennie@gmail.com\"},\n",
    "]\n",
    "\n",
    "print(students)\n",
    "\n",
    "with open(\"\")"
   ]
  },
  {
   "cell_type": "markdown",
   "metadata": {},
   "source": [
    "# Open csv package"
   ]
  },
  {
   "cell_type": "code",
   "execution_count": null,
   "metadata": {},
   "outputs": [],
   "source": []
  },
  {
   "cell_type": "code",
   "execution_count": null,
   "metadata": {},
   "outputs": [],
   "source": [
    "import csv\n",
    "\n",
    "students = []\n",
    "\n",
    "with open(\"..\\\\data\\\\students.csv\") as file:\n",
    "    reader = csv.DictReader(file)\n",
    "\n",
    "    for row in reader:\n",
    "        students.append({\"name\": row[\"name\"], \"class\": row[\"class\"], \"email\": row[\"email\"]})\n",
    "\n",
    "print(students)"
   ]
  },
  {
   "cell_type": "markdown",
   "metadata": {},
   "source": [
    "# Json serialization and deserialization"
   ]
  },
  {
   "cell_type": "code",
   "execution_count": 32,
   "metadata": {},
   "outputs": [
    {
     "name": "stdout",
     "output_type": "stream",
     "text": [
      "{\n",
      "    \"firstname\": \"Fredrik\",\n",
      "    \"lastname\": \"Johansson\",\n",
      "    \"age\": 42,\n",
      "    \"languages\": [\n",
      "        \"Python\",\n",
      "        \"C#\",\n",
      "        \"Javascript\"\n",
      "    ],\n",
      "    \"contactinfo\": {\n",
      "        \"phone\": \"0702345678\",\n",
      "        \"email\": [\n",
      "            \"fredrik@everyloop.com\",\n",
      "            \"fredrik@gmail.com\",\n",
      "            \"fredrik.johansson@hotmail.com\"\n",
      "        ]\n",
      "    }\n",
      "}\n"
     ]
    }
   ],
   "source": [
    "import json\n",
    "\n",
    "teacher = {\n",
    "    \"firstname\": \"Fredrik\", \n",
    "    \"lastname\": \"Johansson\", \n",
    "    \"age\": 42,\n",
    "    \"languages\": [\"Python\", \"C#\", \"Javascript\"],\n",
    "    \"contactinfo\": {\n",
    "        \"phone\": \"0702345678\",\n",
    "        \"email\": [\n",
    "            \"fredrik@everyloop.com\", \n",
    "            \"fredrik@gmail.com\", \n",
    "            \"fredrik.johansson@hotmail.com\",\n",
    "        ]\n",
    "    }\n",
    "}\n",
    "\n",
    "serialized_data = json.dumps(teacher, indent=4)\n",
    "\n",
    "print(serialized_data)\n",
    "\n",
    "with open(\"..\\\\data\\\\teacher.json\", \"w\") as file:  \n",
    "    file.write(serialized_data)"
   ]
  },
  {
   "cell_type": "code",
   "execution_count": 33,
   "metadata": {},
   "outputs": [
    {
     "name": "stdout",
     "output_type": "stream",
     "text": [
      "{'firstname': 'Fredrik', 'lastname': 'Johansson', 'age': 42, 'languages': ['Python', 'C#', 'Javascript'], 'contactinfo': {'phone': '0702345678', 'email': ['fredrik@everyloop.com', 'fredrik@gmail.com', 'fredrik.johansson@hotmail.com']}}\n"
     ]
    }
   ],
   "source": [
    "with open (\"..\\\\data\\\\teacher.json\", \"r\") as file:\n",
    "    data = file.read()\n",
    "\n",
    "teacher = json.loads(data)\n",
    "\n",
    "print(teacher)"
   ]
  },
  {
   "cell_type": "code",
   "execution_count": 42,
   "metadata": {},
   "outputs": [
    {
     "name": "stdout",
     "output_type": "stream",
     "text": [
      "alfa-romero\n",
      "audi\n",
      "bmw\n",
      "chevrolet\n",
      "dodge\n",
      "honda\n",
      "isuzu\n",
      "jaguar\n",
      "mazda\n",
      "mercedes-benz\n",
      "mercury\n",
      "mitsubishi\n",
      "nissan\n",
      "peugot\n",
      "plymouth\n",
      "porsche\n",
      "renault\n",
      "saab\n",
      "subaru\n",
      "toyota\n",
      "volkswagen\n",
      "volvo\n"
     ]
    }
   ],
   "source": [
    "#Få ut första bilen från listan\n",
    "with open (\"..\\\\data\\\\autos_json.json\", \"r\") as file:\n",
    "    data = file.read()\n",
    "\n",
    "cars = json.loads(data)\n",
    "\n",
    "#print(cars[0])\n",
    "\n",
    "#for key, value in cars[0].items():\n",
    "    #print(f\"{key} = {value}\")\n",
    "\n",
    "brands = set([car[\"make\"] for car in cars])\n",
    "\n",
    "for brand in sorted(brands):\n",
    "    print(brand)"
   ]
  }
 ],
 "metadata": {
  "kernelspec": {
   "display_name": "Python-Viktor-Molina-85FrPKpX",
   "language": "python",
   "name": "python3"
  },
  "language_info": {
   "codemirror_mode": {
    "name": "ipython",
    "version": 3
   },
   "file_extension": ".py",
   "mimetype": "text/x-python",
   "name": "python",
   "nbconvert_exporter": "python",
   "pygments_lexer": "ipython3",
   "version": "3.11.5"
  },
  "orig_nbformat": 4
 },
 "nbformat": 4,
 "nbformat_minor": 2
}
