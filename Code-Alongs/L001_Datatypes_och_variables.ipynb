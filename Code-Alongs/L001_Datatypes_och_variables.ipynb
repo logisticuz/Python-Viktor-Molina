{
 "cells": [
  {
   "cell_type": "markdown",
   "metadata": {},
   "source": [
    "# Data types\n",
    "- **String** (text)\n",
    "- **Int** (integer, sv. heltal)\n",
    "- **Float** (floating point, sv. flyttal (decimaltal))\n",
    "- **Bool** (boolean, True/False)"
   ]
  },
  {
   "cell_type": "code",
   "execution_count": 29,
   "metadata": {},
   "outputs": [
    {
     "name": "stdout",
     "output_type": "stream",
     "text": [
      "Fredrik\n",
      "8\n",
      "3.14\n"
     ]
    }
   ],
   "source": [
    "myString = \"Fredrik\"\n",
    "print(myString)\n",
    "\n",
    "myInt = 8\n",
    "print(myInt)\n",
    "\n",
    "myFloat = 3.14\n",
    "print(myFloat)"
   ]
  },
  {
   "cell_type": "code",
   "execution_count": 21,
   "metadata": {},
   "outputs": [
    {
     "name": "stdout",
     "output_type": "stream",
     "text": [
      "True\n"
     ]
    },
    {
     "data": {
      "text/plain": [
       "int"
      ]
     },
     "execution_count": 21,
     "metadata": {},
     "output_type": "execute_result"
    }
   ],
   "source": [
    "\n",
    "myBool = True\n",
    "print(myBool)\n",
    "\n",
    "type(myInt)"
   ]
  },
  {
   "cell_type": "markdown",
   "metadata": {},
   "source": [
    "# Literal values\n",
    "- \"Hello\" - **String** Can use single or double quotes. Case-sensitive.\n",
    "- 5 - **Integer**\n",
    "- 4.5 - **Float**\n",
    "- True - **Bool** Can be True or False"
   ]
  },
  {
   "cell_type": "markdown",
   "metadata": {},
   "source": [
    "# Variables\n",
    "- Case sensitive\n",
    "- Created first assigned, doesn't need to be declared\n",
    "- Dynamic typing, type is referred from assignment, can be re-typed.\n",
    "- Cast type with: str(), int(), float(), bool()\n",
    "- Get type with: type()\n",
    "- Use del() to delete variables"
   ]
  },
  {
   "cell_type": "code",
   "execution_count": 59,
   "metadata": {},
   "outputs": [
    {
     "name": "stdout",
     "output_type": "stream",
     "text": [
      "58\n",
      "<class 'str'>\n",
      "<class 'int'>\n"
     ]
    },
    {
     "ename": "NameError",
     "evalue": "name 'myNumber2' is not defined",
     "output_type": "error",
     "traceback": [
      "\u001b[1;31m---------------------------------------------------------------------------\u001b[0m",
      "\u001b[1;31mNameError\u001b[0m                                 Traceback (most recent call last)",
      "\u001b[1;32mc:\\Users\\vikto\\Documents\\GitHub\\Python-Viktor-Molina\\Code-Alongs\\L001_Datatypes_och_variables.ipynb Cell 6\u001b[0m line \u001b[0;36m9\n\u001b[0;32m      <a href='vscode-notebook-cell:/c%3A/Users/vikto/Documents/GitHub/Python-Viktor-Molina/Code-Alongs/L001_Datatypes_och_variables.ipynb#W3sZmlsZQ%3D%3D?line=5'>6</a>\u001b[0m \u001b[39mprint\u001b[39m(\u001b[39mtype\u001b[39m(myNumber2))\n\u001b[0;32m      <a href='vscode-notebook-cell:/c%3A/Users/vikto/Documents/GitHub/Python-Viktor-Molina/Code-Alongs/L001_Datatypes_och_variables.ipynb#W3sZmlsZQ%3D%3D?line=7'>8</a>\u001b[0m \u001b[39mdel\u001b[39;00m(myNumber2)\n\u001b[1;32m----> <a href='vscode-notebook-cell:/c%3A/Users/vikto/Documents/GitHub/Python-Viktor-Molina/Code-Alongs/L001_Datatypes_och_variables.ipynb#W3sZmlsZQ%3D%3D?line=8'>9</a>\u001b[0m \u001b[39mprint\u001b[39m(myNumber2)\n",
      "\u001b[1;31mNameError\u001b[0m: name 'myNumber2' is not defined"
     ]
    }
   ],
   "source": [
    "myNumber = \"56\"\n",
    "myNumber2 = int(myNumber)\n",
    "print(myNumber2 + 2)\n",
    "\n",
    "print(type(myNumber))\n",
    "print(type(myNumber2))\n",
    "\n",
    "#del(myNumber2)\n",
    "print(myNumber2)"
   ]
  },
  {
   "cell_type": "markdown",
   "metadata": {},
   "source": []
  }
 ],
 "metadata": {
  "kernelspec": {
   "display_name": "Python-Viktor-Molina-85FrPKpX",
   "language": "python",
   "name": "python3"
  },
  "language_info": {
   "codemirror_mode": {
    "name": "ipython",
    "version": 3
   },
   "file_extension": ".py",
   "mimetype": "text/x-python",
   "name": "python",
   "nbconvert_exporter": "python",
   "pygments_lexer": "ipython3",
   "version": "3.11.5"
  },
  "orig_nbformat": 4
 },
 "nbformat": 4,
 "nbformat_minor": 2
}
